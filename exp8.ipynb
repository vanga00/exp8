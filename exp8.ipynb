{
 "cells": [
  {
   "cell_type": "code",
   "execution_count": 39,
   "id": "18a75dd8",
   "metadata": {},
   "outputs": [
    {
     "name": "stdout",
     "output_type": "stream",
     "text": [
      "Coloring of graph 1 \n",
      "Vertex 0  ---> Color 0\n",
      "Vertex 1  ---> Color 1\n",
      "Vertex 2  ---> Color 2\n",
      "Vertex 3  ---> Color 0\n",
      "Vertex 4  ---> Color 1\n",
      "\n",
      "Coloring of graph 2\n",
      "Vertex 0  ---> Color 0\n",
      "Vertex 1  ---> Color 1\n",
      "Vertex 2  ---> Color 2\n",
      "Vertex 3  ---> Color 0\n",
      "Vertex 4  ---> Color 3\n"
     ]
    }
   ],
   "source": [
    "\n",
    "def addEdge(adj, v, w):\n",
    "\t\n",
    "\tadj[v].append(w)\n",
    "\tadj[w].append(v) \n",
    "\treturn adj\n",
    "\n",
    "def greedyColoring(adj, V):\n",
    "\t\n",
    "\tresult = [-1] * V\n",
    "\n",
    "\tresult[0] = 0;\n",
    "\n",
    "\tavailable = [False] * V\n",
    "\n",
    "\tfor u in range(1, V):\n",
    "\t\t\n",
    "\t\tfor i in adj[u]:\n",
    "\t\t\tif (result[i] != -1):\n",
    "\t\t\t\tavailable[result[i]] = True\n",
    "\n",
    "\t\tcr = 0\n",
    "\t\twhile cr < V:\n",
    "\t\t\tif (available[cr] == False):\n",
    "\t\t\t\tbreak\n",
    "\t\t\t\n",
    "\t\t\tcr += 1\n",
    "\t\t\t\n",
    "\t\tresult[u] = cr \n",
    "\t\tfor i in adj[u]:\n",
    "\t\t\tif (result[i] != -1):\n",
    "\t\t\t\tavailable[result[i]] = False\n",
    "\n",
    "\tfor u in range(V):\n",
    "\t\tprint(\"Vertex\", u, \" ---> Color\", result[u])\n",
    "\n",
    "if __name__ == '__main__':\n",
    "\t\n",
    "\tg1 = [[] for i in range(5)]\n",
    "\tg1 = addEdge(g1, 0, 1)\n",
    "\tg1 = addEdge(g1, 0, 2)\n",
    "\tg1 = addEdge(g1, 1, 2)\n",
    "\tg1 = addEdge(g1, 1, 3)\n",
    "\tg1 = addEdge(g1, 2, 3)\n",
    "\tg1 = addEdge(g1, 3, 4)\n",
    "\tprint(\"Coloring of graph 1 \")\n",
    "\tgreedyColoring(g1, 5)\n",
    "\n",
    "\tg2 = [[] for i in range(5)]\n",
    "\tg2 = addEdge(g2, 0, 1)\n",
    "\tg2 = addEdge(g2, 0, 2)\n",
    "\tg2 = addEdge(g2, 1, 2)\n",
    "\tg2 = addEdge(g2, 1, 4)\n",
    "\tg2 = addEdge(g2, 2, 4)\n",
    "\tg2 = addEdge(g2, 4, 3)\n",
    "\tprint(\"\\nColoring of graph 2\")\n",
    "\tgreedyColoring(g2, 5)\n"
   ]
  },
  {
   "cell_type": "code",
   "execution_count": null,
   "id": "dd724d5b",
   "metadata": {},
   "outputs": [],
   "source": []
  }
 ],
 "metadata": {
  "kernelspec": {
   "display_name": "Python 3 (ipykernel)",
   "language": "python",
   "name": "python3"
  },
  "language_info": {
   "codemirror_mode": {
    "name": "ipython",
    "version": 3
   },
   "file_extension": ".py",
   "mimetype": "text/x-python",
   "name": "python",
   "nbconvert_exporter": "python",
   "pygments_lexer": "ipython3",
   "version": "3.11.5"
  }
 },
 "nbformat": 4,
 "nbformat_minor": 5
}
